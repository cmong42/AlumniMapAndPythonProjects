{
 "cells": [
  {
   "cell_type": "markdown",
   "metadata": {},
   "source": [
    "# Smokers by Age"
   ]
  },
  {
   "cell_type": "markdown",
   "metadata": {},
   "source": [
    "<h1>Code</h1>"
   ]
  },
  {
   "cell_type": "code",
   "execution_count": 5,
   "metadata": {},
   "outputs": [],
   "source": [
    "import csv\n",
    "insurance_list = []\n",
    "with open(\"insurance.csv\") as insurance:\n",
    "    insurance_dict = csv.DictReader(insurance)\n",
    "    for i in insurance_dict:\n",
    "        insurance_list.append(i)\n",
    "    "
   ]
  },
  {
   "cell_type": "code",
   "execution_count": 6,
   "metadata": {},
   "outputs": [
    {
     "name": "stdout",
     "output_type": "stream",
     "text": [
      "OrderedDict([('age', '19'), ('sex', 'female'), ('bmi', '27.9'), ('children', '0'), ('smoker', 'yes'), ('region', 'southwest'), ('charges', '16884.924')])\n"
     ]
    }
   ],
   "source": [
    "print(insurance_list[0])"
   ]
  },
  {
   "cell_type": "code",
   "execution_count": 9,
   "metadata": {},
   "outputs": [],
   "source": [
    "age_list = [i['age'] for i in insurance_list]\n",
    "smoker_list = [i['smoker'] for i in insurance_list]"
   ]
  },
  {
   "cell_type": "code",
   "execution_count": 12,
   "metadata": {},
   "outputs": [],
   "source": [
    "age_list = [int(i) for i in age_list]\n",
    "\n",
    "zero_to_ten = [age_list[i] for i in range(len(age_list)) if (age_list[i])<=10 and smoker_list[i]=='yes']\n",
    "eleven_to_twenty = [age_list[i] for i in range(len(age_list)) if age_list[i]>10 and age_list[i]<=20 and smoker_list[i]=='yes']\n",
    "twentyone_to_thirty = [age_list[i] for i in range(len(age_list)) if age_list[i]>20 and age_list[i]<=30 and smoker_list[i]=='yes']\n",
    "thirtyone_to_forty = [age_list[i] for i in range(len(age_list)) if age_list[i]>30 and age_list[i]<40 and smoker_list[i]=='yes']\n",
    "fortyone_to_fifty = [age_list[i] for i in range(len(age_list)) if age_list[i]>40 and age_list[i]<=50 and smoker_list[i]=='yes']\n",
    "fiftyone_to_sixty = [age_list[i] for i in range(len(age_list)) if age_list[i]>50 and age_list[i]<=60 and smoker_list[i]=='yes']\n",
    "sixtyone_plus = [age_list[i] for i in range(len(age_list)) if age_list[i]>60 and smoker_list[i]=='yes']\n",
    "\n",
    "    "
   ]
  },
  {
   "cell_type": "code",
   "execution_count": 16,
   "metadata": {},
   "outputs": [
    {
     "name": "stdout",
     "output_type": "stream",
     "text": [
      "0\n",
      "39\n",
      "56\n",
      "49\n",
      "61\n",
      "42\n",
      "22\n"
     ]
    }
   ],
   "source": [
    "list_list = [zero_to_ten, eleven_to_twenty, twentyone_to_thirty, thirtyone_to_forty, fortyone_to_fifty, fiftyone_to_sixty, sixtyone_plus]\n",
    "\n",
    "for i in list_list:\n",
    "    print(len(i))\n",
    "    \n",
    "num_smoker = [len(i) for i in list_list]"
   ]
  },
  {
   "cell_type": "code",
   "execution_count": 19,
   "metadata": {},
   "outputs": [],
   "source": [
    "smoker_by_age_dict = {}\n",
    "smoker_by_age_dict['Ages 0-10'] = num_smoker[0]\n",
    "smoker_by_age_dict['Ages 11-20'] = num_smoker[1]\n",
    "smoker_by_age_dict['Ages 21-30'] = num_smoker[2]\n",
    "smoker_by_age_dict['Ages 31-40'] = num_smoker[3]\n",
    "smoker_by_age_dict['Ages 41-50'] = num_smoker[4]\n",
    "smoker_by_age_dict['Ages 51-60'] = num_smoker[5]\n",
    "smoker_by_age_dict['Ages 61+'] = num_smoker[6]"
   ]
  },
  {
   "cell_type": "code",
   "execution_count": 20,
   "metadata": {},
   "outputs": [
    {
     "name": "stdout",
     "output_type": "stream",
     "text": [
      "{'Ages 0-10': 0, 'Ages 11-20': 39, 'Ages 21-30': 56, 'Ages 31-40': 49, 'Ages 41-50': 61, 'Ages 51-60': 42, 'Ages 61+': 22}\n"
     ]
    }
   ],
   "source": [
    "print(smoker_by_age_dict)"
   ]
  },
  {
   "cell_type": "code",
   "execution_count": 22,
   "metadata": {},
   "outputs": [],
   "source": [
    "non_smoker_zero_to_ten = [age_list[i] for i in range(len(age_list)) if (age_list[i])<=10 and smoker_list[i]=='no']\n",
    "non_smoker_eleven_to_twenty = [age_list[i] for i in range(len(age_list)) if age_list[i]>10 and age_list[i]<=20 and smoker_list[i]=='no']\n",
    "non_smoker_twentyone_to_thirty = [age_list[i] for i in range(len(age_list)) if age_list[i]>20 and age_list[i]<=30 and smoker_list[i]=='no']\n",
    "non_smoker_thirtyone_to_forty = [age_list[i] for i in range(len(age_list)) if age_list[i]>30 and age_list[i]<40 and smoker_list[i]=='no']\n",
    "non_smoker_fortyone_to_fifty = [age_list[i] for i in range(len(age_list)) if age_list[i]>40 and age_list[i]<=50 and smoker_list[i]=='no']\n",
    "non_smoker_fiftyone_to_sixty = [age_list[i] for i in range(len(age_list)) if age_list[i]>50 and age_list[i]<=60 and smoker_list[i]=='no']\n",
    "non_smoker_sixtyone_plus = [age_list[i] for i in range(len(age_list)) if age_list[i]>60 and smoker_list[i]=='no']\n",
    "\n",
    "    "
   ]
  },
  {
   "cell_type": "code",
   "execution_count": 23,
   "metadata": {},
   "outputs": [
    {
     "name": "stdout",
     "output_type": "stream",
     "text": [
      "0\n",
      "127\n",
      "222\n",
      "181\n",
      "220\n",
      "223\n",
      "69\n"
     ]
    }
   ],
   "source": [
    "non_list_list = [non_smoker_zero_to_ten, non_smoker_eleven_to_twenty, non_smoker_twentyone_to_thirty, non_smoker_thirtyone_to_forty, non_smoker_fortyone_to_fifty, non_smoker_fiftyone_to_sixty, non_smoker_sixtyone_plus]\n",
    "\n",
    "for i in non_list_list:\n",
    "    print(len(i))\n",
    "    \n",
    "num_smoker = [len(i) for i in non_list_list]"
   ]
  },
  {
   "cell_type": "code",
   "execution_count": 24,
   "metadata": {},
   "outputs": [],
   "source": [
    "non_smoker_dict = {}\n",
    "non_smoker_dict['Ages 0-10'] = num_smoker[0]\n",
    "non_smoker_dict['Ages 11-20'] = num_smoker[1]\n",
    "non_smoker_dict['Ages 21-30'] = num_smoker[2]\n",
    "non_smoker_dict['Ages 31-40'] = num_smoker[3]\n",
    "non_smoker_dict['Ages 41-50'] = num_smoker[4]\n",
    "non_smoker_dict['Ages 51-60'] = num_smoker[5]\n",
    "non_smoker_dict['Ages 61+'] = num_smoker[6]"
   ]
  },
  {
   "cell_type": "code",
   "execution_count": 28,
   "metadata": {},
   "outputs": [
    {
     "name": "stdout",
     "output_type": "stream",
     "text": [
      "23.49397590361446\n",
      "20.14388489208633\n",
      "21.304347826086957\n",
      "21.70818505338078\n",
      "15.849056603773585\n",
      "24.175824175824175\n"
     ]
    }
   ],
   "source": [
    "for x, y in zip(smoker_by_age_dict.values(), non_smoker_dict.values()):\n",
    "    try:\n",
    "        print((x/(x+y))*100)\n",
    "    except:\n",
    "        pass"
   ]
  },
  {
   "cell_type": "markdown",
   "metadata": {},
   "source": [
    "<h1>Conclusions</h1>"
   ]
  },
  {
   "cell_type": "markdown",
   "metadata": {},
   "source": [
    "<h3>Percentage of Smokers in Each Age Group</h3>\n",
    "<p>Ages 0-10........0%</p>\n",
    "<p>Ages 11-20.......23.49%</p></br></br>\n",
    "<p>Ages 21-30.......20.14%</p></br></br>\n",
    "<p>Ages 31-40.......21.3%</p></br></br>\n",
    "<p>Ages 41-50.......21.71 %</p></br></br>\n",
    "<p>Ages 51-60.......15.85%</p></br></br>\n",
    "<p>Ages 61+.........24.18%</p></br></br>"
   ]
  },
  {
   "cell_type": "markdown",
   "metadata": {},
   "source": [
    "<h3>Notes</h3>\n",
    "<p>There appears to be slightly more smokers who are teenagers or young adults, compared to the other age groups.</p>\n",
    "<p>People whose ages ranged from 51 to 60 smoke significantly less than the other age groups.</p>\n",
    "<p>Patients older than 61 smoked significantly more than the other age groups.</p>"
   ]
  },
  {
   "cell_type": "code",
   "execution_count": null,
   "metadata": {},
   "outputs": [],
   "source": []
  }
 ],
 "metadata": {
  "kernelspec": {
   "display_name": "Python 3",
   "language": "python",
   "name": "python3"
  },
  "language_info": {
   "codemirror_mode": {
    "name": "ipython",
    "version": 3
   },
   "file_extension": ".py",
   "mimetype": "text/x-python",
   "name": "python",
   "nbconvert_exporter": "python",
   "pygments_lexer": "ipython3",
   "version": "3.7.6"
  }
 },
 "nbformat": 4,
 "nbformat_minor": 4
}
