{
 "cells": [
  {
   "cell_type": "code",
   "execution_count": 1,
   "metadata": {},
   "outputs": [],
   "source": [
    "import folium\n",
    "import pandas as pd"
   ]
  },
  {
   "cell_type": "code",
   "execution_count": 2,
   "metadata": {},
   "outputs": [],
   "source": [
    "#Possible colors = {'gray', 'blue', 'orange', 'purple', 'beige', 'd\n",
    "#arkpurple', 'lightred', 'red', 'cadetblue', 'black', 'white', 'darkblue', 'darkred', 'green', 'darkgreen', 'lig\n",
    "#htgray', 'pink', 'lightblue', 'lightgreen'}"
   ]
  },
  {
   "cell_type": "code",
   "execution_count": 13,
   "metadata": {},
   "outputs": [
    {
     "name": "stdout",
     "output_type": "stream",
     "text": [
      "   zip primary_city state  latitude  longitude     county      type  \\\n",
      "0  501   Holtsville    NY     40.81     -73.04    Suffolk    UNIQUE   \n",
      "1  544   Holtsville    NY     40.81     -73.04    Suffolk    UNIQUE   \n",
      "2  601     Adjuntas    PR     18.16     -66.72   Adjuntas  STANDARD   \n",
      "3  602       Aguada    PR     18.38     -67.18        NaN  STANDARD   \n",
      "4  603    Aguadilla    PR     18.43     -67.15  Aguadilla  STANDARD   \n",
      "\n",
      "  world_region country  decommissioned  estimated_population notes  \n",
      "0          NaN      US               0                   384   NaN  \n",
      "1          NaN      US               0                     0   NaN  \n",
      "2          NaN      US               0                     0   NaN  \n",
      "3          NaN      US               0                     0   NaN  \n",
      "4          NaN      US               0                     0   NaN  \n",
      "             City     County State         Zip            College  \\\n",
      "0       Abbeville  Abbeville    SC  29620-3434        Agriculture   \n",
      "1       Greenwood  Abbeville    SC  29646-9303          Education   \n",
      "2  Greenbackville   Accomack    VA  23356-3015        Agriculture   \n",
      "3     Belle Haven   Accomack    VA  23306-1755  Arts and Sciences   \n",
      "4      Wattsville   Accomack    VA  23483-0087        Engineering   \n",
      "\n",
      "  Spouse College  \n",
      "0            NaN  \n",
      "1            NaN  \n",
      "2            NaN  \n",
      "3            NaN  \n",
      "4            NaN  \n"
     ]
    }
   ],
   "source": [
    "df = pd.read_excel('alumniExcel.xlsx')\n",
    "df2 = pd.read_csv('latitudeLongitude.csv')\n",
    "print(df2.head(5))\n",
    "print(df.head(5))"
   ]
  },
  {
   "cell_type": "code",
   "execution_count": 14,
   "metadata": {},
   "outputs": [],
   "source": [
    "latCoord= list(df2.latitude)\n",
    "longCoord = list(df2.longitude)\n",
    "alumniCounty = list(df['County'])\n",
    "latlonCounty = list(df2.county)\n",
    "alumniDegree = list(df['College'])\n",
    "alumniDegree2 = list(df['Spouse College'])\n",
    "alumniCounty2 =[]\n",
    "alumniCoordinates = []\n",
    "latlonCounty2 = []\n",
    "dictionaryHOH = {}\n",
    "dictionarySpouse = {}"
   ]
  },
  {
   "cell_type": "code",
   "execution_count": null,
   "metadata": {},
   "outputs": [],
   "source": [
    "for i in latlonCounty:\n",
    "    latlonCounty2.append(str(i))\n",
    "for i in alumniCounty:\n",
    "    alumniCounty2.append(str(i[0:5]))\n",
    "\n",
    "for x in range(len(alumniCounty2)):\n",
    "    if alumniCounty2[x] in latlonCounty2:\n",
    "        latCoord2 = latCoord[latlonCounty2.index(alumniCounty2[x])]\n",
    "        longCoord2 = longCoord[latlonCounty2.index(alumniCounty2[x])]\n",
    "        coord = (latCoord2, longCoord2)\n",
    "        alumniCoordinates.append(coord)\n",
    "        dictionaryHOH[coord]=alumniDegree[x]\n",
    "        dictionarySpouse[coord]=alumniDegree2[x]\n",
    "        \n",
    "print(alumniCoordinates[:5])\n"
   ]
  },
  {
   "cell_type": "code",
   "execution_count": null,
   "metadata": {},
   "outputs": [],
   "source": [
    "keyHOH = list(dictionaryHOH.keys())\n",
    "valueHOH = list(dictionaryHOH.values())\n",
    "keySpouse = list(dictionarySpouse.keys())\n",
    "valueSpouse = list(dictionarySpouse.values())"
   ]
  },
  {
   "cell_type": "code",
   "execution_count": null,
   "metadata": {},
   "outputs": [],
   "source": [
    "print(keyHOH[10])\n",
    "print(valueHOH[10])"
   ]
  },
  {
   "cell_type": "code",
   "execution_count": null,
   "metadata": {},
   "outputs": [],
   "source": [
    "print(df['HOH College'].unique())\n",
    "print(df['Spouse College'].unique())"
   ]
  },
  {
   "cell_type": "code",
   "execution_count": null,
   "metadata": {},
   "outputs": [],
   "source": [
    "coordAgriculture=[]\n",
    "coordArtsandSciences=[]\n",
    "coordBusiness=[]\n",
    "coordEducation=[]\n",
    "coordEngineering=[]\n",
    "coordFineArts=[]\n",
    "coordHumanEcology=[]\n",
    "coordInterdisciplinary=[]\n",
    "coordNursing=[]"
   ]
  },
  {
   "cell_type": "code",
   "execution_count": null,
   "metadata": {},
   "outputs": [],
   "source": [
    "for i in range(len(keyHOH)):\n",
    "    if valueHOH[i]=='Agriculture':\n",
    "        coordAgriculture.append(keyHOH[i])\n",
    "    elif valueHOH[i]=='Arts and Sciences':\n",
    "        coordArtsandSciences.append(keyHOH[i])\n",
    "    elif valueHOH[i]=='Business Administration':\n",
    "        coordBusiness.append(keyHOH[i])\n",
    "    elif valueHOH[i]=='Education':\n",
    "        coordEducation.append(keyHOH[i])\n",
    "    elif valueHOH[i]=='Engineering' or valueHOH[i]=='Engineerin':\n",
    "        coordEngineering.append(keyHOH[i])\n",
    "    elif valueHOH[i]=='Fine Arts':\n",
    "        coordFineArts.append(keyHOH[i])\n",
    "    elif valueHOH[i]=='Human Ecology':\n",
    "        coordHumanEcology.append(keyHOH[i])\n",
    "    elif valueHOH[i]=='Interdisciplinary Studies':\n",
    "        coordInterdisciplinary.append(keyHOH[i])\n",
    "    elif valueHOH[i]=='Nursing':\n",
    "        coordNursing.append(keyHOH[i])\n",
    "        \n",
    "for i in range(len(keySpouse)):\n",
    "    if valueSpouse[i]=='Agriculture':\n",
    "        coordAgriculture.append(keySpouse[i])\n",
    "    elif valueSpouse[i]=='Arts and Sciences':\n",
    "        coordArtsandSciences.append(keySpouse[i])\n",
    "    elif valueSpouse[i]=='Business Administration':\n",
    "        coordBusiness.append(keySpouse[i])\n",
    "    elif valueSpouse[i]=='Education':\n",
    "        coordEducation.append(keySpouse[i])\n",
    "    elif valueSpouse[i]=='Engineerin' or valueSpouse[i]=='Engineering':\n",
    "        coordEngineering.append(keySpouse[i])\n",
    "    elif valueSpouse[i]=='Fine Arts':\n",
    "        coordFineArts.append(keySpouse[i])\n",
    "    elif valueSpouse[i]=='Human Ecology':\n",
    "        coordHumanEcology.append(keySpouse[i])\n",
    "    elif valueSpouse[i]=='Interdisciplinary Studies':\n",
    "        coordInterdisciplinary.append(keySpouse[i])\n",
    "    elif valueSpouse[i]=='Nursing':\n",
    "        coordNursing.append(keySpouse[i])"
   ]
  },
  {
   "cell_type": "code",
   "execution_count": null,
   "metadata": {},
   "outputs": [],
   "source": [
    "print(coordEducation)"
   ]
  },
  {
   "cell_type": "code",
   "execution_count": null,
   "metadata": {},
   "outputs": [],
   "source": [
    "agricultureFG = folium.FeatureGroup(name = \"College of Agriculture\")\n",
    "coordAgriculture2 = [list(map(float,i.split(', '))) for i in coordAgriculture]"
   ]
  },
  {
   "cell_type": "code",
   "execution_count": null,
   "metadata": {},
   "outputs": [],
   "source": [
    "for i in coordAgriculture2:\n",
    "    agricultureFG.add_child(folium.CircleMarker(location=i, radius=3, fill_color = 'lightgreen', color = 'lightgreen', fill_opacity = 0.5, opacity = 0.4))"
   ]
  },
  {
   "cell_type": "code",
   "execution_count": null,
   "metadata": {},
   "outputs": [],
   "source": [
    "print(coordAgriculture2[1])"
   ]
  },
  {
   "cell_type": "code",
   "execution_count": null,
   "metadata": {},
   "outputs": [],
   "source": [
    "ArtsandSciencesFG = folium.FeatureGroup(name = \"College of Arts and Sciences\")\n",
    "coordArtsandSciences2 = [list(map(float,i.split(', '))) for i in coordArtsandSciences]"
   ]
  },
  {
   "cell_type": "code",
   "execution_count": null,
   "metadata": {},
   "outputs": [],
   "source": [
    "for i in coordArtsandSciences2:\n",
    "    ArtsandSciencesFG.add_child(folium.CircleMarker(location=list(i), radius=3, fill_color = 'darkblue', color = 'darkblue', fill_opacity = 0.5, opacity = 0.4))"
   ]
  },
  {
   "cell_type": "code",
   "execution_count": null,
   "metadata": {},
   "outputs": [],
   "source": [
    "educationFG = folium.FeatureGroup(name = \"College of Education\")\n",
    "coordEducation2 = [list(map(float,i.split(', '))) for i in coordEducation]\n",
    "for i in coordEducation2:\n",
    "    educationFG.add_child(folium.CircleMarker(location=list(i), radius=3, fill_color = 'red', color = 'red', fill_opacity = 0.5, opacity = 0.4))"
   ]
  },
  {
   "cell_type": "code",
   "execution_count": null,
   "metadata": {},
   "outputs": [],
   "source": [
    "print(coordEducation)"
   ]
  },
  {
   "cell_type": "code",
   "execution_count": null,
   "metadata": {},
   "outputs": [],
   "source": [
    "businessFG = folium.FeatureGroup(name = \"College of Business\")\n",
    "coordBusiness2 = [list(map(float,i.split(', '))) for i in coordBusiness]\n",
    "for i in coordBusiness2:\n",
    "    businessFG.add_child(folium.CircleMarker(location=list(i), radius=3, fill_color = 'lightblue', color = 'lightblue', fill_opacity = 0.5, opacity = 0.4))"
   ]
  },
  {
   "cell_type": "code",
   "execution_count": null,
   "metadata": {},
   "outputs": [],
   "source": [
    "engineeringFG = folium.FeatureGroup(name = \"College of Engineering\")\n",
    "coordEngineering2 = [list(map(float,i.split(', '))) for i in coordEngineering]\n",
    "for i in coordEngineering2:\n",
    "    engineeringFG.add_child(folium.CircleMarker(location=list(i), radius=3, fill_color = 'orange', color = 'orange', fill_opacity = 0.5, opacity = 0.4))"
   ]
  },
  {
   "cell_type": "code",
   "execution_count": null,
   "metadata": {},
   "outputs": [],
   "source": [
    "fineartsFG = folium.FeatureGroup(name = \"College of Fine Arts\")\n",
    "coordFineArts2 = [list(map(float,i.split(', '))) for i in coordFineArts]\n",
    "for i in coordFineArts2:\n",
    "    fineartsFG.add_child(folium.CircleMarker(location=list(i), radius=3, fill_color = 'darkred', color = 'darkred', fill_opacity = 0.5, opacity = 0.4))"
   ]
  },
  {
   "cell_type": "code",
   "execution_count": null,
   "metadata": {},
   "outputs": [],
   "source": [
    "humanEcologyFG = folium.FeatureGroup(name = \"College of Human Ecology\")\n",
    "coordHumanEcology2 = [list(map(float,i.split(', '))) for i in coordHumanEcology]\n",
    "for i in coordHumanEcology2:\n",
    "    humanEcologyFG.add_child(folium.CircleMarker(location=list(i), radius=3, fill_color = 'darkgreen', color = 'darkgreen', fill_opacity = 0.5, opacity = 0.4))"
   ]
  },
  {
   "cell_type": "code",
   "execution_count": null,
   "metadata": {},
   "outputs": [],
   "source": [
    "interdisciplinaryFG = folium.FeatureGroup(name = \"College of Interdisciplinary Studies\")\n",
    "coordInterdisciplinary2 = [list(map(float,i.split(', '))) for i in coordInterdisciplinary]\n",
    "for i in coordInterdisciplinary2:\n",
    "    interdisciplinaryFG.add_child(folium.CircleMarker(location=list(i), radius=3, fill_color = 'gray', color = 'gray', fill_opacity = 0.5, opacity = 0.4))"
   ]
  },
  {
   "cell_type": "code",
   "execution_count": null,
   "metadata": {},
   "outputs": [],
   "source": [
    "nursingFG = folium.FeatureGroup(name = \"College of Nursing\")\n",
    "coordNursing2 = [list(map(float,i.split(', '))) for i in coordNursing]\n",
    "for i in coordNursing2:\n",
    "    nursingFG.add_child(folium.CircleMarker(location=list(i), radius=3, fill_color = 'purple', color = 'purple', fill_opacity = 0.5, opacity = 0.4))"
   ]
  },
  {
   "cell_type": "code",
   "execution_count": null,
   "metadata": {},
   "outputs": [],
   "source": [
    "# map = folium.Map(location = [39.83, -98.57], tiles = \"cartodbdark_matter\", zoom_start=6, max_zoom=8, min_zoom = 3)\n",
    "# # folium.Map(location = [39.83, -98.57], tiles = \"openstreetmap\", zoom_start=6, max_zoom=8, min_zoom = 3)\n",
    "# # folium.Map(location = [39.83, -98.57], tiles = \"mapboxcontrolroom\", zoom_start=6, max_zoom=8, min_zoom = 3)\n",
    "# # folium.Map(location = [39.83, -98.57], tiles = \"stamentoner\", zoom_start=6, max_zoom=8, min_zoom = 3)\n",
    "# # folium.Map(location = [39.83, -98.57], tiles = \"cartodbpositron\", zoom_start=6, max_zoom=8, min_zoom = 3)\n",
    "# # folium.Map(location = [39.83, -98.57], tiles = \"stamenwatercolor\", zoom_start=6, max_zoom=8, min_zoom = 3)\n",
    "# # folium.Map(location = [39.83, -98.57], tiles = \"mapboxcontrolroom\", zoom_start=6, max_zoom=8, min_zoom = 3)\n",
    "# # folium.Map(location = [39.83, -98.57], tiles = \"stamenterrain\", zoom_start=6, max_zoom=8, min_zoom = 3)\n",
    "\n",
    "# map.add_child(agricultureFG)\n",
    "# map.add_child(ArtsandSciencesFG)\n",
    "# map.add_child(businessFG)\n",
    "# map.add_child(educationFG)\n",
    "# map.add_child(engineeringFG)\n",
    "# map.add_child(fineartsFG)\n",
    "# map.add_child(humanEcologyFG)\n",
    "# map.add_child(interdisciplinaryFG)\n",
    "# map.add_child(nursingFG)\n",
    "# map.add_child(folium.LayerControl())\n",
    "# map.save(\"TNTech_Alumni.html\")"
   ]
  },
  {
   "cell_type": "code",
   "execution_count": null,
   "metadata": {},
   "outputs": [],
   "source": [
    "map = folium.Map(location = [39.83, -98.57], zoom_start=6, max_zoom=8, min_zoom = 3, tiles = None)\n",
    "folium.TileLayer(tiles = 'cartodbdark_matter', name = \"Dark Background\").add_to(map)\n",
    "folium.TileLayer(tiles = 'openstreetmap', name = \"Light Background\").add_to(map)\n",
    "folium.TileLayer(tiles = 'stamenterrain', name = \"Terrain Background\").add_to(map)\n",
    "folium.Marker([36.18, -85.50], popup='<i>With special thanks to Brandon Boyd and Lora Cowan for providing the dataset of alumni.</i>').add_to(map)\n",
    "folium.Marker([35.60, -82.55], popup='<i>With thanks to Ardit Sulce and Stackskills.com for the use of their open source code.</i>').add_to(map)\n",
    "\n",
    "map.add_child(agricultureFG)\n",
    "map.add_child(ArtsandSciencesFG)\n",
    "map.add_child(businessFG)\n",
    "map.add_child(educationFG)\n",
    "map.add_child(engineeringFG)\n",
    "map.add_child(fineartsFG)\n",
    "map.add_child(humanEcologyFG)\n",
    "map.add_child(interdisciplinaryFG)\n",
    "map.add_child(nursingFG)\n",
    "folium.LayerControl(collapsed = False).add_to(map)\n",
    "map.save(\"TNTech_Alumni_Version3.html\")"
   ]
  },
  {
   "cell_type": "code",
   "execution_count": null,
   "metadata": {},
   "outputs": [],
   "source": []
  }
 ],
 "metadata": {
  "kernelspec": {
   "display_name": "Python 3",
   "language": "python",
   "name": "python3"
  },
  "language_info": {
   "codemirror_mode": {
    "name": "ipython",
    "version": 3
   },
   "file_extension": ".py",
   "mimetype": "text/x-python",
   "name": "python",
   "nbconvert_exporter": "python",
   "pygments_lexer": "ipython3",
   "version": "3.7.6"
  }
 },
 "nbformat": 4,
 "nbformat_minor": 2
}
