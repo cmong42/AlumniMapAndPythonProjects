{
 "cells": [
  {
   "cell_type": "code",
   "execution_count": 1,
   "metadata": {},
   "outputs": [],
   "source": [
    "import pandas as pd\n",
    "import xlrd\n",
    "data = pd.read_excel(\"ICD10.xlsx\")\n",
    "data.columns = ['Symptom', \"1\", \"2\", 'Code']\n",
    "SymptomList = data['Symptom'].tolist()\n",
    "CodeList = data['Code'].tolist()\n",
    "SL = [i.lower() for i in SymptomList]\n",
    "CL = [i.lower() for i in CodeList]\n",
    "dictionary = {}\n",
    "for i in range(len(SL)):\n",
    "    dictionary[SL[i]] = CL[i]\n",
    "def translate(w):\n",
    "    listy = []\n",
    "    for i, o in zip(dictionary.keys(), dictionary.values()):\n",
    "        if w in i:\n",
    "            listy.append(i+\": \"+dictionary[i])\n",
    "        elif w in o:\n",
    "            listy.append(i+\": \"+dictionary[i])\n",
    "    return \"\\n\".join(listy)"
   ]
  },
  {
   "cell_type": "raw",
   "metadata": {},
   "source": []
  },
  {
   "cell_type": "code",
   "execution_count": null,
   "metadata": {},
   "outputs": [],
   "source": []
  },
  {
   "cell_type": "code",
   "execution_count": null,
   "metadata": {},
   "outputs": [
    {
     "name": "stdout",
     "output_type": "stream",
     "text": [
      "Type diagnosis here: right bun\n",
      "right bundle branch block: i45.10\n",
      "Type diagnosis here: right b\n",
      "right bundle branch block: i45.10\n",
      "Type diagnosis here: tach\n",
      "sinus tachycardia : r00.0\n",
      "supraventricular tachycardia : i47.1\n",
      "Type diagnosis here: right bun\n",
      "right bundle branch block: i45.10\n",
      "Type diagnosis here: fasc l\n",
      "\n",
      "Type diagnosis here: fasc\n",
      "left anterior fascicular block : i44.4\n",
      "Type diagnosis here: cond\n",
      "nonspecific intraventricular conduction delay : i45.4\n",
      "Type diagnosis here: av \n",
      "sinus rhythm with first degree av block: i44\n",
      "Type diagnosis here: t wav\n",
      "moderate t wave abnormality: r94.31\n",
      "nonspecific st t wave abnormality: i45.4\n",
      "Type diagnosis here: right bun\n",
      "right bundle branch block: i45.10\n"
     ]
    }
   ],
   "source": [
    "for i in range(200):\n",
    "    user = input(\"Type diagnosis here: \")\n",
    "    print(translate(user))"
   ]
  },
  {
   "cell_type": "markdown",
   "metadata": {},
   "source": [
    "# "
   ]
  },
  {
   "cell_type": "code",
   "execution_count": null,
   "metadata": {},
   "outputs": [],
   "source": []
  }
 ],
 "metadata": {
  "kernelspec": {
   "display_name": "Python 3",
   "language": "python",
   "name": "python3"
  },
  "language_info": {
   "codemirror_mode": {
    "name": "ipython",
    "version": 3
   },
   "file_extension": ".py",
   "mimetype": "text/x-python",
   "name": "python",
   "nbconvert_exporter": "python",
   "pygments_lexer": "ipython3",
   "version": "3.7.6"
  }
 },
 "nbformat": 4,
 "nbformat_minor": 4
}
